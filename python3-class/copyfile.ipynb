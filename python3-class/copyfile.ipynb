{
 "cells": [
  {
   "cell_type": "code",
   "execution_count": 7,
   "id": "faab9d0a-5218-4657-bc3c-5b4faf7b624f",
   "metadata": {},
   "outputs": [],
   "source": [
    "from importfile import differentfunction"
   ]
  },
  {
   "cell_type": "code",
   "execution_count": 8,
   "id": "34166c08-2604-489a-9c3b-ffa769a4ed33",
   "metadata": {},
   "outputs": [
    {
     "name": "stdout",
     "output_type": "stream",
     "text": [
      "Sub-fields in AI are:\n",
      "machine language\n",
      "neural network\n",
      "robotics\n",
      "vission\n",
      "speech porcessing\n",
      "natural language processing\n"
     ]
    }
   ],
   "source": [
    "differentfunction.subfields()"
   ]
  },
  {
   "cell_type": "code",
   "execution_count": 9,
   "id": "0921a0b8-36c4-47b3-b411-65dae32e4432",
   "metadata": {},
   "outputs": [
    {
     "name": "stdin",
     "output_type": "stream",
     "text": [
      "Enter a number:  52452\n"
     ]
    },
    {
     "name": "stdout",
     "output_type": "stream",
     "text": [
      "52452 is  Even number\n"
     ]
    }
   ],
   "source": [
    "differentfunction.oddeven()"
   ]
  },
  {
   "cell_type": "code",
   "execution_count": 10,
   "id": "c822e6f6-6f01-4454-8cf5-66bc576eebf2",
   "metadata": {},
   "outputs": [
    {
     "name": "stdin",
     "output_type": "stream",
     "text": [
      "Your gender:  male\n",
      "Your Age:  20\n"
     ]
    },
    {
     "name": "stdout",
     "output_type": "stream",
     "text": [
      " NOT ElIGIBLE\n"
     ]
    }
   ],
   "source": [
    "differentfunction.Elegible()\n"
   ]
  },
  {
   "cell_type": "code",
   "execution_count": 9,
   "id": "0e700619-9c0c-4f72-ba64-d5cb723d12bb",
   "metadata": {},
   "outputs": [
    {
     "name": "stdin",
     "output_type": "stream",
     "text": [
      "Height: 32\n",
      "length: 34\n"
     ]
    },
    {
     "name": "stdout",
     "output_type": "stream",
     "text": [
      "Area formula :(Height*Weight)/2\n",
      "Area of triangle: 544.0\n"
     ]
    },
    {
     "name": "stdin",
     "output_type": "stream",
     "text": [
      "Height1: 2\n",
      "Height2: 4\n",
      "Breath: 4\n"
     ]
    },
    {
     "name": "stdout",
     "output_type": "stream",
     "text": [
      "perimeter formula: Height1+Height2+Breath\n",
      "perimeter of triangle: 10\n"
     ]
    }
   ],
   "source": [
    "differentfunction.triangle()"
   ]
  },
  {
   "cell_type": "code",
   "execution_count": 11,
   "id": "1eeba4af-4cfa-4b69-8f82-ab8cfeb68cbf",
   "metadata": {},
   "outputs": [
    {
     "name": "stdin",
     "output_type": "stream",
     "text": [
      "Subject1 : 98\n",
      "Subject2 : 87\n",
      "Subject3 : 95\n",
      "Subject4 : 95\n",
      "Subject5 : 93\n"
     ]
    },
    {
     "name": "stdout",
     "output_type": "stream",
     "text": [
      "Total 468\n",
      "Percentage :  93.60000000000001\n"
     ]
    }
   ],
   "source": [
    "differentfunction.percentage()"
   ]
  },
  {
   "cell_type": "code",
   "execution_count": null,
   "id": "8c55fb25-95c1-47ce-92ff-cb0daceb6802",
   "metadata": {},
   "outputs": [],
   "source": []
  }
 ],
 "metadata": {
  "kernelspec": {
   "display_name": "Python 3 (ipykernel)",
   "language": "python",
   "name": "python3"
  },
  "language_info": {
   "codemirror_mode": {
    "name": "ipython",
    "version": 3
   },
   "file_extension": ".py",
   "mimetype": "text/x-python",
   "name": "python",
   "nbconvert_exporter": "python",
   "pygments_lexer": "ipython3",
   "version": "3.13.5"
  }
 },
 "nbformat": 4,
 "nbformat_minor": 5
}
