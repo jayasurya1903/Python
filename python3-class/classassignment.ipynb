{
 "cells": [
  {
   "cell_type": "code",
   "execution_count": 17,
   "id": "dc0cf781-4b5c-4d7b-a8e1-ece10efa515c",
   "metadata": {},
   "outputs": [
    {
     "name": "stdout",
     "output_type": "stream",
     "text": [
      "Sub-fields in AI are:\n",
      "machine language\n",
      "neural network\n",
      "robotics\n",
      "vission\n",
      "speech porcessing\n",
      "natural language processing\n"
     ]
    }
   ],
   "source": [
    "class differentfunction():\n",
    "    def triangle():\n",
    "        Height=int(input(\"Height:\"))\n",
    "        leng=int(input(\"length:\"))\n",
    "        print(\"Area formula :(Height*Weight)/2\")\n",
    "        mull=(Height*leng)/2\n",
    "        print(\"Area of triangle:\",mull)\n",
    "        Height1=int(input(\"Height1:\"))\n",
    "        Height2=int(input(\"Height2:\"))\n",
    "        Breath=int(input(\"Breath:\"))\n",
    "        print(\"perimeter formula: Height1+Height2+Breath\")\n",
    "        total=Height1+Height2+Breath\n",
    "        print(\"perimeter of triangle:\",total)\n",
    "    \n",
    "\n",
    "    def percentage() :\n",
    "        sub1=int(input(\"Subject1 :\"))\n",
    "        sub2=int(input(\"Subject2 :\")) \n",
    "        sub3=int(input(\"Subject3 :\"))\n",
    "        sub4=int(input(\"Subject4 :\"))\n",
    "        sub5=int(input(\"Subject5 :\"))\n",
    "        total=sub1+sub2+sub3+sub4+sub5\n",
    "        print(\"Total\",total)\n",
    "        per=total/500*100\n",
    "        print(\"Percentage : \",per)\n",
    "    \n",
    "\n",
    "    def Elegible():\n",
    "        gen=str(input(\"Your gender: \"))\n",
    "        ag=int(input(\"Your Age: \"))\n",
    "        if((\"male\"==gen.lower()) & (ag>=21)):\n",
    "            print(\"ElIGIBLE\")\n",
    "        elif((\"female\"==gen.lower()) & (ag>=18)):\n",
    "            print(\" ElIGIBLE\")\n",
    "        else:\n",
    "            print(\" NOT ElIGIBLE\")\n",
    "    \n",
    "\n",
    "    def oddeven():\n",
    "        num=int(input(\"Enter a number: \"))\n",
    "        if (num%2==0):\n",
    "            print(\"52452 is  Even number\")\n",
    "        else:\n",
    "            print(\"52452 is Odd number\")\n",
    "    \n",
    "\n",
    "    def subfields():\n",
    "        List=[\"machine language\",\"neural network\",\"robotics\",\"vission\",\"speech porcessing\",\"natural language processing\"]\n",
    "        print(\"Sub-fields in AI are:\")\n",
    "        for lag in List:\n",
    "            print(lag)\n",
    "differentfunction.subfields()\n",
    "    "
   ]
  },
  {
   "cell_type": "code",
   "execution_count": 18,
   "id": "39e0a3e3-29de-485a-bd2b-bcff23132a6e",
   "metadata": {},
   "outputs": [
    {
     "name": "stdin",
     "output_type": "stream",
     "text": [
      "Enter a number:  52452\n"
     ]
    },
    {
     "name": "stdout",
     "output_type": "stream",
     "text": [
      "52452 is  Even number\n"
     ]
    }
   ],
   "source": [
    "differentfunction.oddeven()"
   ]
  },
  {
   "cell_type": "code",
   "execution_count": 19,
   "id": "59ddb1c6-7538-490f-bf6b-0db17b2eb60d",
   "metadata": {},
   "outputs": [
    {
     "name": "stdin",
     "output_type": "stream",
     "text": [
      "Your gender:  male\n",
      "Your Age:  20\n"
     ]
    },
    {
     "name": "stdout",
     "output_type": "stream",
     "text": [
      " NOT ElIGIBLE\n"
     ]
    }
   ],
   "source": [
    "differentfunction.Elegible()"
   ]
  },
  {
   "cell_type": "code",
   "execution_count": 20,
   "id": "8a8ff05e-c3a6-4f5b-a0bd-09a91e2cb58b",
   "metadata": {},
   "outputs": [
    {
     "name": "stdin",
     "output_type": "stream",
     "text": [
      "Subject1 : 98\n",
      "Subject2 : 87\n",
      "Subject3 : 95\n",
      "Subject4 : 95\n",
      "Subject5 : 93\n"
     ]
    },
    {
     "name": "stdout",
     "output_type": "stream",
     "text": [
      "Total 468\n",
      "Percentage :  93.60000000000001\n"
     ]
    }
   ],
   "source": [
    "differentfunction.percentage()"
   ]
  },
  {
   "cell_type": "code",
   "execution_count": 21,
   "id": "2e0fad74-6f17-4285-897d-bbb875714efa",
   "metadata": {},
   "outputs": [
    {
     "name": "stdin",
     "output_type": "stream",
     "text": [
      "Height: 32\n",
      "length: 34\n"
     ]
    },
    {
     "name": "stdout",
     "output_type": "stream",
     "text": [
      "Area formula :(Height*Weight)/2\n",
      "Area of triangle: 544.0\n"
     ]
    },
    {
     "name": "stdin",
     "output_type": "stream",
     "text": [
      "Height1: 2\n",
      "Height2: 4\n",
      "Breath: 4\n"
     ]
    },
    {
     "name": "stdout",
     "output_type": "stream",
     "text": [
      "perimeter formula: Height1+Height2+Breath\n",
      "perimeter of triangle: 10\n"
     ]
    }
   ],
   "source": [
    "differentfunction.triangle()"
   ]
  },
  {
   "cell_type": "code",
   "execution_count": null,
   "id": "aa368422-77b0-4abd-9228-77756f89a8f0",
   "metadata": {},
   "outputs": [],
   "source": []
  }
 ],
 "metadata": {
  "kernelspec": {
   "display_name": "Python 3 (ipykernel)",
   "language": "python",
   "name": "python3"
  },
  "language_info": {
   "codemirror_mode": {
    "name": "ipython",
    "version": 3
   },
   "file_extension": ".py",
   "mimetype": "text/x-python",
   "name": "python",
   "nbconvert_exporter": "python",
   "pygments_lexer": "ipython3",
   "version": "3.13.5"
  }
 },
 "nbformat": 4,
 "nbformat_minor": 5
}
