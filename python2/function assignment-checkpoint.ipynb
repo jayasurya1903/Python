{
 "cells": [
  {
   "cell_type": "code",
   "execution_count": 1,
   "id": "41c3d757-133d-4750-acee-753e23e5bbac",
   "metadata": {},
   "outputs": [],
   "source": [
    "# Create a class and function, and list out the items in the list "
   ]
  },
  {
   "cell_type": "code",
   "execution_count": 9,
   "id": "013f4169-2200-4f3b-889c-46102c8b8aa6",
   "metadata": {},
   "outputs": [
    {
     "name": "stdout",
     "output_type": "stream",
     "text": [
      "Sub-fields in AI are:\n",
      "machine language\n",
      "neural network\n",
      "robotics\n",
      "vission\n",
      "speech porcessing\n",
      "natural language processing\n"
     ]
    }
   ],
   "source": [
    "List=[\"machine language\",\"neural network\",\"robotics\",\"vission\",\"speech porcessing\",\"natural language processing\"]\n",
    "def subfields():\n",
    "    print(\"Sub-fields in AI are:\")\n",
    "    for lag in List:\n",
    "        print(lag)\n",
    "subfields()"
   ]
  },
  {
   "cell_type": "code",
   "execution_count": 10,
   "id": "f61831dc-fcab-49ee-a290-4b4fa0cbc16d",
   "metadata": {},
   "outputs": [],
   "source": [
    "# Create a function that checks whether the given number is Odd or Even "
   ]
  },
  {
   "cell_type": "code",
   "execution_count": 12,
   "id": "5379acf5-526e-4223-ae43-b04b8453ee36",
   "metadata": {},
   "outputs": [
    {
     "name": "stdin",
     "output_type": "stream",
     "text": [
      "Enter a number:  52452\n"
     ]
    },
    {
     "name": "stdout",
     "output_type": "stream",
     "text": [
      "52452 is  Even number\n"
     ]
    }
   ],
   "source": [
    "num=int(input(\"Enter a number: \"))\n",
    "def oddeven():\n",
    "    if (num%2==0):\n",
    "        print(\"52452 is  Even number\")\n",
    "    else:\n",
    "        print(\"52452 is Odd number\")\n",
    "oddeven()"
   ]
  },
  {
   "cell_type": "code",
   "execution_count": 13,
   "id": "4d80d7d0-2806-469c-a18b-568f1382eef8",
   "metadata": {},
   "outputs": [],
   "source": [
    "# Create a function that tells elegibility of marriage for male and female according to their age limit like 21 for male and 18 for female"
   ]
  },
  {
   "cell_type": "code",
   "execution_count": 20,
   "id": "5137c3c0-87b1-4d7d-ba7d-ad583ef25735",
   "metadata": {},
   "outputs": [
    {
     "name": "stdin",
     "output_type": "stream",
     "text": [
      "Your gender:  male\n",
      "Your Age:  20\n"
     ]
    },
    {
     "name": "stdout",
     "output_type": "stream",
     "text": [
      " NOT ElIGIBLE\n"
     ]
    }
   ],
   "source": [
    "gen=str(input(\"Your gender: \"))\n",
    "ag=int(input(\"Your Age: \"))\n",
    "def Elegible():\n",
    "    if((\"male\"==gen.lower()) & (ag>=21)):\n",
    "        print(\"ElIGIBLE\")\n",
    "    elif((\"female\"==gen.lower()) & (ag>=18)):\n",
    "        print(\" ElIGIBLE\")\n",
    "    else:\n",
    "        print(\" NOT ElIGIBLE\")\n",
    "Elegible()   "
   ]
  },
  {
   "cell_type": "code",
   "execution_count": 21,
   "id": "708114df-b4bd-4278-9260-27b56ff6ccc5",
   "metadata": {},
   "outputs": [],
   "source": [
    " #calculate the percentage of your 10th mark "
   ]
  },
  {
   "cell_type": "code",
   "execution_count": 25,
   "id": "8b8da389-fb46-4ffe-a05c-5aa18d4704ba",
   "metadata": {},
   "outputs": [
    {
     "name": "stdin",
     "output_type": "stream",
     "text": [
      "Subject1 : 97\n",
      "Subject2 : 87\n",
      "Subject3 : 95\n",
      "Subject4 : 95\n",
      "Subject5 : 93\n"
     ]
    },
    {
     "name": "stdout",
     "output_type": "stream",
     "text": [
      "Total 467\n",
      "Percentage :  93.4\n"
     ]
    }
   ],
   "source": [
    "sub1=int(input(\"Subject1 :\"))\n",
    "\n",
    "sub2=int(input(\"Subject2 :\")) \n",
    "\n",
    "sub3=int(input(\"Subject3 :\"))\n",
    "\n",
    "sub4=int(input(\"Subject4 :\"))\n",
    "\n",
    "sub5=int(input(\"Subject5 :\"))\n",
    "\n",
    "total=sub1+sub2+sub3+sub4+sub5\n",
    "def percentage() :\n",
    "    print(\"Total\",total)\n",
    "    per=total/500*100\n",
    "    print(\"Percentage : \",per)\n",
    "percentage()\n",
    "    "
   ]
  },
  {
   "cell_type": "code",
   "execution_count": 26,
   "id": "d83f3f93-ab85-4d23-8dbb-3e2cef978848",
   "metadata": {},
   "outputs": [],
   "source": [
    "#print area and perimeter of triangle using class and functions"
   ]
  },
  {
   "cell_type": "code",
   "execution_count": 32,
   "id": "2e1a5d48-8d9f-4507-83d3-7c525e71d34a",
   "metadata": {},
   "outputs": [
    {
     "name": "stdin",
     "output_type": "stream",
     "text": [
      "Height: 32\n",
      "length: 34\n"
     ]
    },
    {
     "name": "stdout",
     "output_type": "stream",
     "text": [
      "Area formula :(Height*Weight)/2\n",
      "Area of triangle: 544.0\n"
     ]
    },
    {
     "name": "stdin",
     "output_type": "stream",
     "text": [
      "Height1: 2\n",
      "Height2: 4\n",
      "Breath: 4\n"
     ]
    },
    {
     "name": "stdout",
     "output_type": "stream",
     "text": [
      "perimeter formula: Height1+Height2+Breath\n",
      "perimeter of triangle: 10\n"
     ]
    }
   ],
   "source": [
    "def triangle():\n",
    "\n",
    "    Height=int(input(\"Height:\"))\n",
    "\n",
    "    leng=int(input(\"length:\"))\n",
    "\n",
    "    print(\"Area formula :(Height*Weight)/2\")\n",
    "\n",
    "    mull=(Height*leng)/2\n",
    "\n",
    "    print(\"Area of triangle:\",mull)\n",
    "\n",
    "    Height1=int(input(\"Height1:\"))\n",
    "\n",
    "    Height2=int(input(\"Height2:\"))\n",
    "\n",
    "    Breath=int(input(\"Breath:\"))\n",
    "\n",
    "    print(\"perimeter formula: Height1+Height2+Breath\")\n",
    "\n",
    "    total=Height1+Height2+Breath\n",
    "\n",
    "    print(\"perimeter of triangle:\",total)\n",
    "\n",
    "triangle()"
   ]
  },
  {
   "cell_type": "code",
   "execution_count": null,
   "id": "c678007e-71bb-4727-9075-b3ce2b237143",
   "metadata": {},
   "outputs": [],
   "source": []
  }
 ],
 "metadata": {
  "kernelspec": {
   "display_name": "Python 3 (ipykernel)",
   "language": "python",
   "name": "python3"
  },
  "language_info": {
   "codemirror_mode": {
    "name": "ipython",
    "version": 3
   },
   "file_extension": ".py",
   "mimetype": "text/x-python",
   "name": "python",
   "nbconvert_exporter": "python",
   "pygments_lexer": "ipython3",
   "version": "3.13.5"
  }
 },
 "nbformat": 4,
 "nbformat_minor": 5
}
